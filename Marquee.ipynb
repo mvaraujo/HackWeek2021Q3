{
 "cells": [
  {
   "cell_type": "code",
   "execution_count": null,
   "id": "31609733-e8a2-48cd-a3cc-d44c4c08ec23",
   "metadata": {},
   "outputs": [],
   "source": [
    "import sys\n",
    "from random import random\n",
    "\n",
    "from builtins import chr\n",
    "\n",
    "from PIL import Image, ImageDraw, ImageFont"
   ]
  },
  {
   "cell_type": "markdown",
   "id": "8d992bcf-49ce-405c-82fd-737b8d0c5124",
   "metadata": {},
   "source": [
    "# Fonts and Canvas Logo"
   ]
  },
  {
   "cell_type": "code",
   "execution_count": null,
   "id": "15d2bc61-ee42-4e99-881f-0918f8d04a68",
   "metadata": {},
   "outputs": [],
   "source": [
    "font_text  = ImageFont.truetype('/Users/marcuspompeu/Library/Fonts/Roboto-Bold.ttf', size=32)\n",
    "font_arrow = ImageFont.truetype('/Users/marcuspompeu/Library/Fonts/Wingdings 3.ttf', size=32)"
   ]
  },
  {
   "cell_type": "code",
   "execution_count": null,
   "id": "af6a6fd0-e431-4b34-b129-8e42c4d0cb99",
   "metadata": {},
   "outputs": [],
   "source": [
    "image_canvas_logo = Image.open('./Canvas Logo.png', 'r')"
   ]
  },
  {
   "cell_type": "markdown",
   "id": "bf31ffba-4e32-482e-960e-8f039e833520",
   "metadata": {},
   "source": [
    "# KPIs data"
   ]
  },
  {
   "cell_type": "code",
   "execution_count": null,
   "id": "e7801e15-7ef1-4f09-a75e-f13eb2a04530",
   "metadata": {},
   "outputs": [],
   "source": [
    "kpi_active_students = 2345322\n",
    "kpi_submissions     = 3104122\n",
    "kpi_uptime          = 0.9932\n",
    "kpi_support_tickets = 12221\n",
    "kpi_overdue_tickets = 0.0010\n",
    "kpi_ff_flag         = 0.3200\n",
    "\n",
    "kpi_good_if_raising = [True, True, True, False, False, True]\n",
    "\n",
    "texts = \\\n",
    "    {\n",
    "        t:\n",
    "            {\n",
    "                'length': font_text.getlength(t),\n",
    "                'height': font_text.getbbox(t)[3] - font_text.getbbox(t)[1] + 1\n",
    "            }\n",
    "        for t\n",
    "        in\n",
    "            [\n",
    "                f'Monthly Active Students: {kpi_active_students:,}',\n",
    "                f'Weekly Submissions: {kpi_submissions:,}',\n",
    "                f'Average Uptime: {kpi_uptime:.2%}',\n",
    "                f'New Weekly Support Tickets: {kpi_support_tickets:,}',\n",
    "                f'Weekly Overdue Support Tickets: {kpi_overdue_tickets:.2%}',\n",
    "                f'Improved Outcomes Feature Flag: {kpi_ff_flag:.2%}'\n",
    "            ]\n",
    "    }\n",
    "\n",
    "titles = \\\n",
    "    {\n",
    "        t:\n",
    "            {\n",
    "                'length': int(font_text.getlength(t)),\n",
    "                'height': int(font_text.getbbox(t)[3] - font_text.getbbox(t)[1] + 1),\n",
    "                'KPIs': texts\n",
    "            }\n",
    "        for t\n",
    "        in\n",
    "            [\n",
    "                'GLOBAL MONTHLY -'\n",
    "            ]\n",
    "    }"
   ]
  },
  {
   "cell_type": "markdown",
   "id": "a1e30036-670d-4255-8ab4-0a8f01298542",
   "metadata": {},
   "source": [
    "# Widths and heights"
   ]
  },
  {
   "cell_type": "code",
   "execution_count": null,
   "id": "e301e0ff-94e6-4c55-9a78-10f05af697de",
   "metadata": {},
   "outputs": [],
   "source": [
    "width_logo  = image_canvas_logo.width\n",
    "margin_logo = 16\n",
    "#\n",
    "width_arrow = font_arrow.getlength(chr(112))\n",
    "#\n",
    "spacer_group  = 32\n",
    "spacer_ticker = 16\n",
    "width_group_spacer  = 32\n",
    "width_ticker_spacer = 16\n",
    "\n",
    "width_total = \\\n",
    "    int(\n",
    "        2 +\n",
    "        #\n",
    "        margin_logo + width_logo + margin_logo +\n",
    "        #\n",
    "        sum(\n",
    "            spacer_group + d['length'] + spacer_group\n",
    "            for d\n",
    "            in titles.values()\n",
    "        ) +\n",
    "        #\n",
    "        sum(\n",
    "            [\n",
    "                d['length'] + spacer_ticker + width_arrow + spacer_group\n",
    "                for d\n",
    "                in texts.values()\n",
    "            ]\n",
    "        )\n",
    "    )"
   ]
  },
  {
   "cell_type": "code",
   "execution_count": null,
   "id": "bb4f62d4-4233-4608-bb8d-c7a063244c1c",
   "metadata": {},
   "outputs": [],
   "source": [
    "height_logo      = image_canvas_logo.height\n",
    "height_arrow     = font_arrow.getbbox(chr(112))[3] - font_arrow.getbbox(chr(112))[1] + 1\n",
    "height_max_texts = max(d['height'] for d in texts.values())"
   ]
  },
  {
   "cell_type": "markdown",
   "id": "ac633571-943c-4e41-807d-562cbeecda93",
   "metadata": {},
   "source": [
    "# Gradient helper (https://stackoverflow.com/a/32532502/206413)"
   ]
  },
  {
   "cell_type": "code",
   "execution_count": null,
   "id": "aa2ed0e8-06fc-4ac3-8683-1eb74c837783",
   "metadata": {
    "jupyter": {
     "source_hidden": true
    },
    "tags": []
   },
   "outputs": [],
   "source": [
    "class Point(object):\n",
    "    def __init__(self, x, y):\n",
    "        self.x, self.y = x, y\n",
    "\n",
    "class Rect(object):\n",
    "    def __init__(self, x1, y1, x2, y2):\n",
    "        minx, maxx = (x1,x2) if x1 < x2 else (x2,x1)\n",
    "        miny, maxy = (y1,y2) if y1 < y2 else (y2,y1)\n",
    "        self.min = Point(minx, miny)\n",
    "        self.max = Point(maxx, maxy)\n",
    "\n",
    "    width  = property(lambda self: self.max.x - self.min.x)\n",
    "    height = property(lambda self: self.max.y - self.min.y)\n",
    "\n",
    "\n",
    "def gradient_color(minval, maxval, val, color_palette):\n",
    "    \"\"\" Computes intermediate RGB color of a value in the range of minval\n",
    "        to maxval (inclusive) based on a color_palette representing the range.\n",
    "    \"\"\"\n",
    "    max_index = len(color_palette)-1\n",
    "    delta = maxval - minval\n",
    "    if delta == 0:\n",
    "        delta = 1\n",
    "    v = float(val-minval) / delta * max_index\n",
    "    i1, i2 = int(v), min(int(v)+1, max_index)\n",
    "    (r1, g1, b1), (r2, g2, b2) = color_palette[i1], color_palette[i2]\n",
    "    f = v - i1\n",
    "    return int(r1 + f*(r2-r1)), int(g1 + f*(g2-g1)), int(b1 + f*(b2-b1))\n",
    "\n",
    "def horz_gradient(draw, rect, color_func, color_palette):\n",
    "    minval, maxval = 1, len(color_palette)\n",
    "    delta = maxval - minval\n",
    "    width = float(rect.width)  # Cache.\n",
    "    for x in range(rect.min.x, rect.max.x+1):\n",
    "        f = (x - rect.min.x) / width\n",
    "        val = minval + f * delta\n",
    "        color = color_func(minval, maxval, val, color_palette)\n",
    "        draw.line([(x, rect.min.y), (x, rect.max.y)], fill=color)\n",
    "\n",
    "def vert_gradient(draw, rect, color_func, color_palette):\n",
    "    minval, maxval = 1, len(color_palette)\n",
    "    delta = maxval - minval\n",
    "    height = float(rect.height)  # Cache.\n",
    "    for y in range(rect.min.y, rect.max.y+1):\n",
    "        f = (y - rect.min.y) / height\n",
    "        val = minval + f * delta\n",
    "        color = color_func(minval, maxval, val, color_palette)\n",
    "        draw.line([(rect.min.x, y), (rect.max.x, y)], fill=color)"
   ]
  },
  {
   "cell_type": "markdown",
   "id": "6d5345fc-01a3-4220-b264-92cbb01924f4",
   "metadata": {},
   "source": [
    "# Generate the Ticker"
   ]
  },
  {
   "cell_type": "code",
   "execution_count": null,
   "id": "7e0b884f-47e0-4778-9ca3-fb219c95cded",
   "metadata": {},
   "outputs": [],
   "source": [
    "ticker_height = 96\n",
    "\n",
    "image      = Image.new('RGBA', (width_total, 96), color='black')\n",
    "image_draw = ImageDraw.Draw(image)\n",
    "\n",
    "def do_draw():\n",
    "    def do_canvas_logo():\n",
    "        nonlocal col\n",
    "        \n",
    "        image.paste(image_canvas_logo, (2 + margin_logo, (ticker_height - height_logo) // 2))\n",
    "        \n",
    "        col += margin_logo + image_canvas_logo.width + margin_logo\n",
    "\n",
    "    def do_draw_text(text, height, font, fill=None):\n",
    "        image_draw.text((col, (ticker_height - height) // 2), text, font=font, fill=fill)\n",
    "        \n",
    "    def do_title(item):\n",
    "        nonlocal col\n",
    "        \n",
    "        text   = item[0]\n",
    "        length = item[1]['length']\n",
    "        height = item[1]['height']\n",
    "        \n",
    "        horz_gradient(\n",
    "            image_draw,\n",
    "            Rect(\n",
    "                col, 0,\n",
    "                col + length + spacer_group, image.height\n",
    "            ),\n",
    "            gradient_color,\n",
    "            [\n",
    "                (0x3d, 0xBa, 0xe2),\n",
    "                (0, 0, 0)\n",
    "            ]\n",
    "        )\n",
    "        \n",
    "        col += spacer_group\n",
    "        \n",
    "        do_draw_text(text, height, font_text)\n",
    "        \n",
    "        col += length + spacer_group        \n",
    "        \n",
    "    def do_text(item):\n",
    "        nonlocal col\n",
    "        \n",
    "        text   = item[0]\n",
    "        length = item[1]['length']\n",
    "        height = item[1]['height']\n",
    "        \n",
    "        do_draw_text(text, height, font_text)\n",
    "        \n",
    "        col += length + spacer_ticker\n",
    "\n",
    "    def do_ticker(idx):\n",
    "        nonlocal col\n",
    "\n",
    "        up_or_down = round(random())\n",
    "        up_or_down_color = (0, 172, 24) if kpi_good_if_raising[idx] and not up_or_down else (238, 6, 18)\n",
    "\n",
    "        do_draw_text(chr(112 + up_or_down), height_arrow, font_arrow, up_or_down_color)\n",
    "        \n",
    "    def do_group_spacer(idx):\n",
    "        nonlocal col\n",
    "        \n",
    "        if idx != len(texts) - 1:\n",
    "            col += width_arrow + spacer_group // 2\n",
    "\n",
    "            image_draw.rectangle((col, (image.height - height_max_texts) // 2, col + 1, (image.height - height_max_texts) // 2 + height_max_texts), fill=(255, 255, 255))\n",
    "\n",
    "            col += spacer_group // 2\n",
    "\n",
    "    col = 2\n",
    "    \n",
    "    do_canvas_logo()\n",
    "    \n",
    "    horz_gradient(image_draw, Rect(col, 0, col + 64, image.height), gradient_color, [(0x3d, 0xBa, 0xe2), (0x00, 0x00, 0x00)])    \n",
    "    \n",
    "    for title in titles.items():\n",
    "        do_title(title)\n",
    "        \n",
    "        for i, item in enumerate(title[1]['KPIs'].items()):\n",
    "            do_text(item)\n",
    "            do_ticker(i)\n",
    "            do_group_spacer(i)\n",
    "\n",
    "do_draw()    "
   ]
  },
  {
   "cell_type": "code",
   "execution_count": null,
   "id": "a9382225-ed8b-47ce-8d8e-c3aa8e0d67df",
   "metadata": {},
   "outputs": [],
   "source": [
    "image_draw.rectangle((0,               0,                1,               image.height),     fill=(255, 255, 255))\n",
    "image_draw.rectangle((0,               0,                image.width,     1),                fill=(255, 255, 255))\n",
    "image_draw.rectangle((0,               image.height - 2, image.width,     image.height - 1), fill=(255, 255, 255))\n",
    "image_draw.rectangle((image.width - 2, 0,                image.width - 1, image.height),     fill=(255, 255, 255))"
   ]
  },
  {
   "cell_type": "markdown",
   "id": "18104e8d-43f3-4282-b48b-7a286d667f85",
   "metadata": {},
   "source": [
    "# Output"
   ]
  },
  {
   "cell_type": "code",
   "execution_count": null,
   "id": "fcc717fe-49c4-49fb-be50-8dee49bc3362",
   "metadata": {},
   "outputs": [],
   "source": [
    "image.save('ticker.png')"
   ]
  }
 ],
 "metadata": {
  "kernelspec": {
   "display_name": "Python 3",
   "language": "python",
   "name": "python3"
  },
  "language_info": {
   "codemirror_mode": {
    "name": "ipython",
    "version": 3
   },
   "file_extension": ".py",
   "mimetype": "text/x-python",
   "name": "python",
   "nbconvert_exporter": "python",
   "pygments_lexer": "ipython3",
   "version": "3.8.8"
  }
 },
 "nbformat": 4,
 "nbformat_minor": 5
}
