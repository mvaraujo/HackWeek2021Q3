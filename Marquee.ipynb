{
 "cells": [
  {
   "cell_type": "code",
   "execution_count": null,
   "id": "31609733-e8a2-48cd-a3cc-d44c4c08ec23",
   "metadata": {},
   "outputs": [],
   "source": [
    "import sys\n",
    "from random import random\n",
    "\n",
    "from builtins import chr\n",
    "\n",
    "from PIL import Image, ImageDraw, ImageFont"
   ]
  },
  {
   "cell_type": "code",
   "execution_count": null,
   "id": "15d2bc61-ee42-4e99-881f-0918f8d04a68",
   "metadata": {},
   "outputs": [],
   "source": [
    "font_text  = ImageFont.truetype('/Users/marcuspompeu/Library/Fonts/Roboto-Bold.ttf', size=32)\n",
    "font_arrow = ImageFont.truetype('/Users/marcuspompeu/Library/Fonts/Wingdings 3.ttf', size=32)"
   ]
  },
  {
   "cell_type": "code",
   "execution_count": null,
   "id": "af6a6fd0-e431-4b34-b129-8e42c4d0cb99",
   "metadata": {},
   "outputs": [],
   "source": [
    "image_canvas_logo = Image.open('./Canvas Logo.png', 'r')"
   ]
  },
  {
   "cell_type": "code",
   "execution_count": null,
   "id": "e7801e15-7ef1-4f09-a75e-f13eb2a04530",
   "metadata": {},
   "outputs": [],
   "source": [
    "kpi_active_students = 2345322\n",
    "kpi_submissions     = 3104122\n",
    "kpi_uptime          = 0.9932\n",
    "kpi_support_tickets = 12221\n",
    "kpi_overdue_tickets = 0.0010\n",
    "kpi_ff_flag         = 0.3200\n",
    "\n",
    "kpi_good_if_raising = [True, True, True, False, False, True]\n",
    "\n",
    "texts = \\\n",
    "    {\n",
    "        t:\n",
    "            {\n",
    "                'length': font_text.getlength(t),\n",
    "                'height': font_text.getbbox(t)[3] - font_text.getbbox(t)[1] + 1\n",
    "            }\n",
    "        for t\n",
    "        in\n",
    "            [\n",
    "                f'Monthly Active Students: {kpi_active_students:,}',\n",
    "                f'Weekly Submissions: {kpi_submissions:,}',\n",
    "                f'Average Uptime: {kpi_uptime:.2%}',\n",
    "                f'New Weekly Support Tickets: {kpi_support_tickets:,}',\n",
    "                f'Weekly Overdue Support Tickets: {kpi_overdue_tickets:.2%}',\n",
    "                f'Improved Outcomes Feature Flag: {kpi_ff_flag:.2%}'\n",
    "            ]\n",
    "    }"
   ]
  },
  {
   "cell_type": "code",
   "execution_count": null,
   "id": "e301e0ff-94e6-4c55-9a78-10f05af697de",
   "metadata": {},
   "outputs": [],
   "source": [
    "width_logo  = image_canvas_logo.width\n",
    "margin_logo = 16\n",
    "#\n",
    "width_arrow = font_arrow.getlength(chr(112))\n",
    "#\n",
    "spacer_group  = 32\n",
    "spacer_ticker = 16\n",
    "width_group_spacer  = 32\n",
    "width_ticker_spacer = 16\n",
    "\n",
    "\n",
    "width_total = \\\n",
    "    int(\n",
    "        2 +\n",
    "        margin_logo + width_logo + margin_logo +\n",
    "        sum(\n",
    "            [\n",
    "                d['length'] + spacer_ticker + width_arrow + spacer_group\n",
    "                for d\n",
    "                in texts.values()\n",
    "            ]\n",
    "        )\n",
    "    )"
   ]
  },
  {
   "cell_type": "code",
   "execution_count": null,
   "id": "bb4f62d4-4233-4608-bb8d-c7a063244c1c",
   "metadata": {},
   "outputs": [],
   "source": [
    "height_logo      = image_canvas_logo.height\n",
    "height_arrow     = font_arrow.getbbox(chr(112))[3] - font_arrow.getbbox(chr(112))[1] + 1\n",
    "height_max_texts = max(d['height'] for d in texts.values())"
   ]
  },
  {
   "cell_type": "code",
   "execution_count": null,
   "id": "7e0b884f-47e0-4778-9ca3-fb219c95cded",
   "metadata": {},
   "outputs": [],
   "source": [
    "ticker_height = 96\n",
    "\n",
    "image      = Image.new('RGBA', (width_total, 96), color='black')\n",
    "image_draw = ImageDraw.Draw(image)\n",
    "\n",
    "def do_draw():\n",
    "    def do_canvas_logo():\n",
    "        nonlocal col\n",
    "        \n",
    "        image.paste(image_canvas_logo, (2 + margin_logo, (ticker_height - height_logo) // 2))\n",
    "        \n",
    "        col += margin_logo + image_canvas_logo.width + margin_logo        \n",
    "\n",
    "    def do_draw_text(text, height, font, fill=None):\n",
    "        image_draw.text((col, (ticker_height - height) // 2), text, font=font, fill=fill)\n",
    "        \n",
    "    def do_text(item):\n",
    "        nonlocal col\n",
    "        \n",
    "        text   = item[0]\n",
    "        length = item[1]['length']\n",
    "        height = item[1]['height']\n",
    "        \n",
    "        do_draw_text(text, height, font_text)\n",
    "        \n",
    "        col += length + spacer_ticker\n",
    "\n",
    "    def do_ticker(idx):\n",
    "        nonlocal col\n",
    "\n",
    "        up_or_down = round(random())\n",
    "        up_or_down_color = (0, 172, 24) if kpi_good_if_raising[idx] and not up_or_down else (238, 6, 18)\n",
    "\n",
    "        do_draw_text(chr(112 + up_or_down), height_arrow, font_arrow, up_or_down_color)\n",
    "        \n",
    "    def do_group_spacer(idx):\n",
    "        nonlocal col\n",
    "        \n",
    "        if idx != len(texts) - 1:\n",
    "            col += width_arrow + spacer_group // 2\n",
    "\n",
    "            image_draw.rectangle((col, (image.height - height_max_texts) // 2, col + 1, (image.height - height_max_texts) // 2 + height_max_texts), fill=(255, 255, 255))\n",
    "\n",
    "            col += spacer_group // 2\n",
    "\n",
    "    col = 2\n",
    "    \n",
    "    do_canvas_logo()    \n",
    "\n",
    "    for i, item in enumerate(texts.items()):\n",
    "        do_text(item)\n",
    "        do_ticker(i)\n",
    "        do_group_spacer(i)\n",
    "\n",
    "\n",
    "do_draw()    "
   ]
  },
  {
   "cell_type": "code",
   "execution_count": null,
   "id": "a9382225-ed8b-47ce-8d8e-c3aa8e0d67df",
   "metadata": {},
   "outputs": [],
   "source": [
    "image_draw.rectangle((0,               0,                1,               image.height),     fill=(255, 255, 255))\n",
    "image_draw.rectangle((0,               0,                image.width,     1),                fill=(255, 255, 255))\n",
    "image_draw.rectangle((0,               image.height - 2, image.width,     image.height - 1), fill=(255, 255, 255))\n",
    "image_draw.rectangle((image.width - 2, 0,                image.width - 1, image.height),     fill=(255, 255, 255))"
   ]
  }
 ],
 "metadata": {
  "kernelspec": {
   "display_name": "Python 3",
   "language": "python",
   "name": "python3"
  },
  "language_info": {
   "codemirror_mode": {
    "name": "ipython",
    "version": 3
   },
   "file_extension": ".py",
   "mimetype": "text/x-python",
   "name": "python",
   "nbconvert_exporter": "python",
   "pygments_lexer": "ipython3",
   "version": "3.8.8"
  }
 },
 "nbformat": 4,
 "nbformat_minor": 5
}
