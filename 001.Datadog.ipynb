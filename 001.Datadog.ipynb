{
 "cells": [
  {
   "cell_type": "code",
   "execution_count": null,
   "id": "6e57eed4",
   "metadata": {
    "tags": []
   },
   "outputs": [],
   "source": [
    "import time\n",
    "import json\n",
    "\n",
    "import datadog_api_client\n",
    "from datadog_api_client.v1.api import metrics_api\n",
    "\n",
    "from datetime import datetime, timedelta\n",
    "from dateutil import tz\n",
    "\n",
    "import os"
   ]
  },
  {
   "cell_type": "code",
   "execution_count": null,
   "id": "40cf67d6",
   "metadata": {
    "tags": []
   },
   "outputs": [],
   "source": [
    "configuration = datadog_api_client.v1.Configuration()\n",
    "\n",
    "configuration.api_key['apiKeyAuth'] = os.environ['datadog_api_key_auth']\n",
    "configuration.api_key['appKeyAuth'] = os.environ['datadog_app_key_auth']"
   ]
  },
  {
   "cell_type": "code",
   "execution_count": null,
   "id": "c5754794",
   "metadata": {
    "tags": []
   },
   "outputs": [],
   "source": [
    "api_client = datadog_api_client.v1.ApiClient(configuration)"
   ]
  },
  {
   "cell_type": "code",
   "execution_count": null,
   "id": "2fde3017",
   "metadata": {
    "tags": []
   },
   "outputs": [],
   "source": [
    "api = metrics_api.MetricsApi(api_client)"
   ]
  },
  {
   "cell_type": "code",
   "execution_count": null,
   "id": "54b3b050",
   "metadata": {
    "tags": []
   },
   "outputs": [],
   "source": [
    "request_from = int((datetime.now(tz=tz.gettz('UTC')) - timedelta(days=2)).timestamp())\n",
    "request_to   = int(datetime.now(tz=tz.gettz('UTC')).timestamp())"
   ]
  },
  {
   "cell_type": "code",
   "execution_count": null,
   "id": "cc652db6-59f6-4721-b6ec-a4d0cddc5933",
   "metadata": {
    "tags": []
   },
   "outputs": [],
   "source": [
    "request_to"
   ]
  },
  {
   "cell_type": "code",
   "execution_count": null,
   "id": "4f4eb30e",
   "metadata": {
    "tags": []
   },
   "outputs": [],
   "source": [
    "request_from = datetime(2021, 10, 30, 6, 29, tzinfo=tz.gettz('UTC')).timestamp()\n",
    "request_to   = int(datetime(2021, 11,  3, 6, 29, tzinfo=tz.gettz('UTC')).timestamp())"
   ]
  },
  {
   "cell_type": "code",
   "execution_count": null,
   "id": "dc9fc83f",
   "metadata": {
    "tags": []
   },
   "outputs": [],
   "source": [
    "result_true = \\\n",
    "    api \\\n",
    "        .query_metrics(\n",
    "            request_from,\n",
    "            request_to,\n",
    "            ' '\n",
    "        )"
   ]
  },
  {
   "cell_type": "code",
   "execution_count": null,
   "id": "2e979a45",
   "metadata": {},
   "outputs": [],
   "source": [
    "result_false = \\\n",
    "    api \\\n",
    "        .query_metrics(\n",
    "            request_from,\n",
    "            request_to,\n",
    "            'autosmooth(sum:feature_flag_check{enabled:false,feature:improved_outcomes_management,environment:prod} by {feature}.as_count())'\n",
    "        )"
   ]
  },
  {
   "cell_type": "code",
   "execution_count": null,
   "id": "3ed095cf",
   "metadata": {},
   "outputs": [],
   "source": [
    "result_true_dict  = result_true.to_dict()\n",
    "result_false_dict = result_false.to_dict()"
   ]
  },
  {
   "cell_type": "code",
   "execution_count": null,
   "id": "2ddeb409",
   "metadata": {},
   "outputs": [],
   "source": [
    "points_true  = result_true_dict ['series'][0]['pointlist']\n",
    "points_false = result_false_dict['series'][0]['pointlist']"
   ]
  },
  {
   "cell_type": "code",
   "execution_count": null,
   "id": "1db955bd",
   "metadata": {},
   "outputs": [],
   "source": [
    "{datetime.fromtimestamp(points_true[i][0] / 1000, tz.gettz('UTC')): points_true[i][1] / (points_true[i][1] + points_false[i][1]) * 100 for i in range(len(points_true))}"
   ]
  }
 ],
 "metadata": {
  "interpreter": {
   "hash": "949777d72b0d2535278d3dc13498b2535136f6dfe0678499012e853ee9abcab1"
  },
  "kernelspec": {
   "display_name": "Python 3 (ipykernel)",
   "language": "python",
   "name": "python3"
  },
  "language_info": {
   "codemirror_mode": {
    "name": "ipython",
    "version": 3
   },
   "file_extension": ".py",
   "mimetype": "text/x-python",
   "name": "python",
   "nbconvert_exporter": "python",
   "pygments_lexer": "ipython3",
   "version": "3.11.4"
  }
 },
 "nbformat": 4,
 "nbformat_minor": 5
}
